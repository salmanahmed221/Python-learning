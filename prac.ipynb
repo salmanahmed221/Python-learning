{
 "cells": [
  {
   "cell_type": "code",
   "execution_count": 3,
   "metadata": {},
   "outputs": [
    {
     "name": "stdout",
     "output_type": "stream",
     "text": [
      "{'fname': 'Muhammad Aslam', 'name': 'Muhammad Qasim', 'education': 'MSDS', 'abc': [1, 2, 3], 'xyz': {1, 2, 3}, 'efg': (1, 2, 3), 'cde': {'a': 1, 'b': 2}}\n",
      "Muhammad Qasim\n",
      "Muhammad Aslam\n",
      "2\n",
      "MSDS\n"
     ]
    }
   ],
   "source": [
    "from typing import Union\n",
    "\n",
    "Key = Union[int, str]  # create custom type\n",
    "Value = Union[int, str, list, dict, tuple, set]\n",
    "\n",
    "data00: dict[Key, Value] = {\n",
    "    \"fname\": \"Muhammad Aslam\",\n",
    "    \"name\": \"Muhammad Qasim\",\n",
    "    \"education\": \"MSDS\",\n",
    "    \"abc\": [1, 2, 3],\n",
    "    \"xyz\": {1, 2, 3},\n",
    "    \"efg\": (1, 2, 3),\n",
    "    \"cde\": {\"a\": 1, \"b\": 2},\n",
    "}\n",
    "\n",
    "print(data00)\n",
    "print(data00[\"name\"])\n",
    "print(data00[\"fname\"])\n",
    "print(data00[\"cde\"][\"b\"])\n",
    "print(data00[\"education\"])\n"
   ]
  },
  {
   "cell_type": "code",
   "execution_count": 6,
   "metadata": {},
   "outputs": [
    {
     "name": "stdout",
     "output_type": "stream",
     "text": [
      "{}\n",
      "{'id': None, 'name': None, 'fname': None, 'course': None}\n"
     ]
    }
   ],
   "source": [
    "keys : list[str] = ['id','name','fname','course']\n",
    "data06 : dict[Key,Value] = {}\n",
    "\n",
    "print(data06)\n",
    "\n",
    "data06 = data06.fromkeys(keys) # inline\n",
    "\n",
    "print(data06)"
   ]
  }
 ],
 "metadata": {
  "kernelspec": {
   "display_name": "py12",
   "language": "python",
   "name": "python3"
  },
  "language_info": {
   "codemirror_mode": {
    "name": "ipython",
    "version": 3
   },
   "file_extension": ".py",
   "mimetype": "text/x-python",
   "name": "python",
   "nbconvert_exporter": "python",
   "pygments_lexer": "ipython3",
   "version": "3.12.0"
  }
 },
 "nbformat": 4,
 "nbformat_minor": 2
}
